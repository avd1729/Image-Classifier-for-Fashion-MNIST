{
 "cells": [
  {
   "cell_type": "markdown",
   "id": "9f8721ad",
   "metadata": {
    "papermill": {
     "duration": 0.007613,
     "end_time": "2023-04-15T09:30:21.178284",
     "exception": false,
     "start_time": "2023-04-15T09:30:21.170671",
     "status": "completed"
    },
    "tags": []
   },
   "source": [
    "# **IMAGE CLASSIFIER USING SEQUENTIAL API**"
   ]
  },
  {
   "cell_type": "markdown",
   "id": "515fb7d3",
   "metadata": {
    "papermill": {
     "duration": 0.006234,
     "end_time": "2023-04-15T09:30:21.191243",
     "exception": false,
     "start_time": "2023-04-15T09:30:21.185009",
     "status": "completed"
    },
    "tags": []
   },
   "source": [
    "# **Setting up the environment**"
   ]
  },
  {
   "cell_type": "code",
   "execution_count": 1,
   "id": "38e91be7",
   "metadata": {
    "execution": {
     "iopub.execute_input": "2023-04-15T09:30:21.206846Z",
     "iopub.status.busy": "2023-04-15T09:30:21.205939Z",
     "iopub.status.idle": "2023-04-15T09:30:28.833908Z",
     "shell.execute_reply": "2023-04-15T09:30:28.832749Z"
    },
    "papermill": {
     "duration": 7.638854,
     "end_time": "2023-04-15T09:30:28.836530",
     "exception": false,
     "start_time": "2023-04-15T09:30:21.197676",
     "status": "completed"
    },
    "tags": []
   },
   "outputs": [],
   "source": [
    "import numpy as np\n",
    "import pandas as pd\n",
    "import tensorflow as tf"
   ]
  },
  {
   "cell_type": "code",
   "execution_count": 2,
   "id": "3577d647",
   "metadata": {
    "execution": {
     "iopub.execute_input": "2023-04-15T09:30:28.852334Z",
     "iopub.status.busy": "2023-04-15T09:30:28.851059Z",
     "iopub.status.idle": "2023-04-15T09:30:29.892889Z",
     "shell.execute_reply": "2023-04-15T09:30:29.891846Z"
    },
    "papermill": {
     "duration": 1.052127,
     "end_time": "2023-04-15T09:30:29.895584",
     "exception": false,
     "start_time": "2023-04-15T09:30:28.843457",
     "status": "completed"
    },
    "tags": []
   },
   "outputs": [
    {
     "name": "stdout",
     "output_type": "stream",
     "text": [
      "Downloading data from https://storage.googleapis.com/tensorflow/tf-keras-datasets/train-labels-idx1-ubyte.gz\n",
      "29515/29515 [==============================] - 0s 0us/step\n",
      "Downloading data from https://storage.googleapis.com/tensorflow/tf-keras-datasets/train-images-idx3-ubyte.gz\n",
      "26421880/26421880 [==============================] - 0s 0us/step\n",
      "Downloading data from https://storage.googleapis.com/tensorflow/tf-keras-datasets/t10k-labels-idx1-ubyte.gz\n",
      "5148/5148 [==============================] - 0s 0us/step\n",
      "Downloading data from https://storage.googleapis.com/tensorflow/tf-keras-datasets/t10k-images-idx3-ubyte.gz\n",
      "4422102/4422102 [==============================] - 0s 0us/step\n"
     ]
    }
   ],
   "source": [
    "data = tf.keras.datasets.fashion_mnist.load_data()\n",
    "(X_train_full , y_train_full) , (X_test , y_test) = data\n",
    "X_train , y_train = X_train_full[:-5000] , y_train_full[:-5000]\n",
    "X_valid , y_valid = X_train_full[-5000:] , y_train_full[-5000:]"
   ]
  },
  {
   "cell_type": "code",
   "execution_count": 3,
   "id": "9f5a25ec",
   "metadata": {
    "execution": {
     "iopub.execute_input": "2023-04-15T09:30:29.913449Z",
     "iopub.status.busy": "2023-04-15T09:30:29.912119Z",
     "iopub.status.idle": "2023-04-15T09:30:29.922601Z",
     "shell.execute_reply": "2023-04-15T09:30:29.921585Z"
    },
    "papermill": {
     "duration": 0.02149,
     "end_time": "2023-04-15T09:30:29.924850",
     "exception": false,
     "start_time": "2023-04-15T09:30:29.903360",
     "status": "completed"
    },
    "tags": []
   },
   "outputs": [
    {
     "data": {
      "text/plain": [
       "(55000, 28, 28)"
      ]
     },
     "execution_count": 3,
     "metadata": {},
     "output_type": "execute_result"
    }
   ],
   "source": [
    "X_train.shape"
   ]
  },
  {
   "cell_type": "code",
   "execution_count": 4,
   "id": "d14a7ccc",
   "metadata": {
    "execution": {
     "iopub.execute_input": "2023-04-15T09:30:29.941321Z",
     "iopub.status.busy": "2023-04-15T09:30:29.940969Z",
     "iopub.status.idle": "2023-04-15T09:30:29.947861Z",
     "shell.execute_reply": "2023-04-15T09:30:29.946683Z"
    },
    "papermill": {
     "duration": 0.017712,
     "end_time": "2023-04-15T09:30:29.950081",
     "exception": false,
     "start_time": "2023-04-15T09:30:29.932369",
     "status": "completed"
    },
    "tags": []
   },
   "outputs": [
    {
     "data": {
      "text/plain": [
       "dtype('uint8')"
      ]
     },
     "execution_count": 4,
     "metadata": {},
     "output_type": "execute_result"
    }
   ],
   "source": [
    "X_train.dtype"
   ]
  },
  {
   "cell_type": "markdown",
   "id": "3c41e361",
   "metadata": {
    "papermill": {
     "duration": 0.007305,
     "end_time": "2023-04-15T09:30:29.964986",
     "exception": false,
     "start_time": "2023-04-15T09:30:29.957681",
     "status": "completed"
    },
    "tags": []
   },
   "source": [
    "# **Train-Test split**"
   ]
  },
  {
   "cell_type": "code",
   "execution_count": 5,
   "id": "b4562650",
   "metadata": {
    "execution": {
     "iopub.execute_input": "2023-04-15T09:30:29.982382Z",
     "iopub.status.busy": "2023-04-15T09:30:29.981962Z",
     "iopub.status.idle": "2023-04-15T09:30:30.130298Z",
     "shell.execute_reply": "2023-04-15T09:30:30.129094Z"
    },
    "papermill": {
     "duration": 0.160023,
     "end_time": "2023-04-15T09:30:30.133144",
     "exception": false,
     "start_time": "2023-04-15T09:30:29.973121",
     "status": "completed"
    },
    "tags": []
   },
   "outputs": [],
   "source": [
    "X_train , X_valid , X_test = X_train / 255., X_valid / 255. , X_test / 255. "
   ]
  },
  {
   "cell_type": "code",
   "execution_count": 6,
   "id": "29e219bb",
   "metadata": {
    "execution": {
     "iopub.execute_input": "2023-04-15T09:30:30.151095Z",
     "iopub.status.busy": "2023-04-15T09:30:30.150072Z",
     "iopub.status.idle": "2023-04-15T09:30:30.259759Z",
     "shell.execute_reply": "2023-04-15T09:30:30.258622Z"
    },
    "papermill": {
     "duration": 0.123203,
     "end_time": "2023-04-15T09:30:30.264304",
     "exception": false,
     "start_time": "2023-04-15T09:30:30.141101",
     "status": "completed"
    },
    "tags": []
   },
   "outputs": [
    {
     "data": {
      "image/png": "[encoded data removed]",
      "text/plain": [
       "<Figure size 640x480 with 1 Axes>"
      ]
     },
     "metadata": {},
     "output_type": "display_data"
    }
   ],
   "source": [
    "import matplotlib.pyplot as plt\n",
    "plt.imshow(X_train[0], cmap=\"binary\")\n",
    "plt.axis('off')\n",
    "plt.show()"
   ]
  },
  {
   "cell_type": "code",
   "execution_count": 7,
   "id": "c855c552",
   "metadata": {
    "execution": {
     "iopub.execute_input": "2023-04-15T09:30:30.311329Z",
     "iopub.status.busy": "2023-04-15T09:30:30.309719Z",
     "iopub.status.idle": "2023-04-15T09:30:30.321991Z",
     "shell.execute_reply": "2023-04-15T09:30:30.320307Z"
    },
    "papermill": {
     "duration": 0.041896,
     "end_time": "2023-04-15T09:30:30.327524",
     "exception": false,
     "start_time": "2023-04-15T09:30:30.285628",
     "status": "completed"
    },
    "tags": []
   },
   "outputs": [],
   "source": [
    "class_names = [\"T-shirt/top\" , \"Trouser\" , \"Pullover\" , \"Dress\" , \"Coat\" , \"Sandal\" , \"Shirt\" , \"Sneaker\" , \"Bag\" , \"Ankle boot\"]"
   ]
  },
  {
   "cell_type": "code",
   "execution_count": 8,
   "id": "7353de19",
   "metadata": {
    "execution": {
     "iopub.execute_input": "2023-04-15T09:30:30.351746Z",
     "iopub.status.busy": "2023-04-15T09:30:30.351365Z",
     "iopub.status.idle": "2023-04-15T09:30:30.358483Z",
     "shell.execute_reply": "2023-04-15T09:30:30.357378Z"
    },
    "papermill": {
     "duration": 0.020267,
     "end_time": "2023-04-15T09:30:30.360853",
     "exception": false,
     "start_time": "2023-04-15T09:30:30.340586",
     "status": "completed"
    },
    "tags": []
   },
   "outputs": [
    {
     "data": {
      "text/plain": [
       "'Ankle boot'"
      ]
     },
     "execution_count": 8,
     "metadata": {},
     "output_type": "execute_result"
    }
   ],
   "source": [
    "class_names[y_train[0]]"
   ]
  },
  {
   "cell_type": "code",
   "execution_count": 9,
   "id": "e43db2a3",
   "metadata": {
    "execution": {
     "iopub.execute_input": "2023-04-15T09:30:30.382221Z",
     "iopub.status.busy": "2023-04-15T09:30:30.380038Z",
     "iopub.status.idle": "2023-04-15T09:30:31.641127Z",
     "shell.execute_reply": "2023-04-15T09:30:31.640106Z"
    },
    "papermill": {
     "duration": 1.274288,
     "end_time": "2023-04-15T09:30:31.644053",
     "exception": false,
     "start_time": "2023-04-15T09:30:30.369765",
     "status": "completed"
    },
    "tags": []
   },
   "outputs": [
    {
     "data": {
      "image/png": "[encoded data removed]",
      "text/plain": [
       "<Figure size 1200x480 with 40 Axes>"
      ]
     },
     "metadata": {},
     "output_type": "display_data"
    }
   ],
   "source": [
    "n_rows = 4\n",
    "n_cols = 10\n",
    "plt.figure(figsize=(n_cols * 1.2, n_rows * 1.2))\n",
    "for row in range(n_rows):\n",
    "    for col in range(n_cols):\n",
    "        index = n_cols * row + col\n",
    "        plt.subplot(n_rows, n_cols, index + 1)\n",
    "        plt.imshow(X_train[index], cmap=\"binary\", interpolation=\"nearest\")\n",
    "        plt.axis('off')\n",
    "        plt.title(class_names[y_train[index]])\n",
    "plt.subplots_adjust(wspace=0.2, hspace=0.5)\n",
    "plt.show()\n"
   ]
  },
  {
   "cell_type": "markdown",
   "id": "87b47c36",
   "metadata": {
    "papermill": {
     "duration": 0.008918,
     "end_time": "2023-04-15T09:30:31.661841",
     "exception": false,
     "start_time": "2023-04-15T09:30:31.652923",
     "status": "completed"
    },
    "tags": []
   },
   "source": [
    "# **Creating the model**"
   ]
  },
  {
   "cell_type": "code",
   "execution_count": 10,
   "id": "2dfc9b9d",
   "metadata": {
    "execution": {
     "iopub.execute_input": "2023-04-15T09:30:31.681934Z",
     "iopub.status.busy": "2023-04-15T09:30:31.681081Z",
     "iopub.status.idle": "2023-04-15T09:30:34.566682Z",
     "shell.execute_reply": "2023-04-15T09:30:34.565631Z"
    },
    "papermill": {
     "duration": 2.89842,
     "end_time": "2023-04-15T09:30:34.569199",
     "exception": false,
     "start_time": "2023-04-15T09:30:31.670779",
     "status": "completed"
    },
    "tags": []
   },
   "outputs": [],
   "source": [
    "tf.random.set_seed(42)\n",
    "model = tf.keras.Sequential()\n",
    "model.add(tf.keras.layers.Input(shape=[28,28]))\n",
    "model.add(tf.keras.layers.Flatten())\n",
    "model.add(tf.keras.layers.Dense(300 , activation=\"relu\"))\n",
    "model.add(tf.keras.layers.Dense(100 , activation=\"relu\"))\n",
    "model.add(tf.keras.layers.Dense(10 , activation=\"softmax\"))"
   ]
  },
  {
   "cell_type": "code",
   "execution_count": 11,
   "id": "d763bac8",
   "metadata": {
    "execution": {
     "iopub.execute_input": "2023-04-15T09:30:34.593695Z",
     "iopub.status.busy": "2023-04-15T09:30:34.593200Z",
     "iopub.status.idle": "2023-04-15T09:30:34.614196Z",
     "shell.execute_reply": "2023-04-15T09:30:34.613245Z"
    },
    "papermill": {
     "duration": 0.046884,
     "end_time": "2023-04-15T09:30:34.628326",
     "exception": false,
     "start_time": "2023-04-15T09:30:34.581442",
     "status": "completed"
    },
    "tags": []
   },
   "outputs": [
    {
     "name": "stdout",
     "output_type": "stream",
     "text": [
      "Model: \"sequential\"\n",
      "_________________________________________________________________\n",
      " Layer (type)                Output Shape              Param #   \n",
      "=================================================================\n",
      " flatten (Flatten)           (None, 784)               0         \n",
      "                                                                 \n",
      " dense (Dense)               (None, 300)               235500    \n",
      "                                                                 \n",
      " dense_1 (Dense)             (None, 100)               30100     \n",
      "                                                                 \n",
      " dense_2 (Dense)             (None, 10)                1010      \n",
      "                                                                 \n",
      "=================================================================\n",
      "Total params: 266,610\n",
      "Trainable params: 266,610\n",
      "Non-trainable params: 0\n",
      "_________________________________________________________________\n"
     ]
    }
   ],
   "source": [
    "model.summary()"
   ]
  },
  {
   "cell_type": "code",
   "execution_count": 12,
   "id": "69da43af",
   "metadata": {
    "execution": {
     "iopub.execute_input": "2023-04-15T09:30:34.652319Z",
     "iopub.status.busy": "2023-04-15T09:30:34.651790Z",
     "iopub.status.idle": "2023-04-15T09:30:34.877407Z",
     "shell.execute_reply": "2023-04-15T09:30:34.876237Z"
    },
    "papermill": {
     "duration": 0.239433,
     "end_time": "2023-04-15T09:30:34.879885",
     "exception": false,
     "start_time": "2023-04-15T09:30:34.640452",
     "status": "completed"
    },
    "tags": []
   },
   "outputs": [
    {
     "data": {
      "image/png": "[encoded data removed]",
      "text/plain": [
       "<IPython.core.display.Image object>"
      ]
     },
     "execution_count": 12,
     "metadata": {},
     "output_type": "execute_result"
    }
   ],
   "source": [
    "tf.keras.utils.plot_model(model, \"my_fashion_mnist_model.png\", show_shapes=True)"
   ]
  },
  {
   "cell_type": "code",
   "execution_count": 13,
   "id": "438c0286",
   "metadata": {
    "execution": {
     "iopub.execute_input": "2023-04-15T09:30:34.902310Z",
     "iopub.status.busy": "2023-04-15T09:30:34.901898Z",
     "iopub.status.idle": "2023-04-15T09:30:34.908906Z",
     "shell.execute_reply": "2023-04-15T09:30:34.907910Z"
    },
    "papermill": {
     "duration": 0.020727,
     "end_time": "2023-04-15T09:30:34.910923",
     "exception": false,
     "start_time": "2023-04-15T09:30:34.890196",
     "status": "completed"
    },
    "tags": []
   },
   "outputs": [
    {
     "data": {
      "text/plain": [
       "[<keras.layers.reshaping.flatten.Flatten at 0x70e3ba982a50>,\n",
       " <keras.layers.core.dense.Dense at 0x70e3c3191ed0>,\n",
       " <keras.layers.core.dense.Dense at 0x70e3ba982950>,\n",
       " <keras.layers.core.dense.Dense at 0x70e3b80a80d0>]"
      ]
     },
     "execution_count": 13,
     "metadata": {},
     "output_type": "execute_result"
    }
   ],
   "source": [
    "model.layers"
   ]
  },
  {
   "cell_type": "code",
   "execution_count": 14,
   "id": "139415cf",
   "metadata": {
    "execution": {
     "iopub.execute_input": "2023-04-15T09:30:34.932750Z",
     "iopub.status.busy": "2023-04-15T09:30:34.931907Z",
     "iopub.status.idle": "2023-04-15T09:30:34.936569Z",
     "shell.execute_reply": "2023-04-15T09:30:34.935539Z"
    },
    "papermill": {
     "duration": 0.017769,
     "end_time": "2023-04-15T09:30:34.938766",
     "exception": false,
     "start_time": "2023-04-15T09:30:34.920997",
     "status": "completed"
    },
    "tags": []
   },
   "outputs": [],
   "source": [
    "hidden1 = model.layers[1]"
   ]
  },
  {
   "cell_type": "code",
   "execution_count": 15,
   "id": "b751178a",
   "metadata": {
    "execution": {
     "iopub.execute_input": "2023-04-15T09:30:34.960505Z",
     "iopub.status.busy": "2023-04-15T09:30:34.959664Z",
     "iopub.status.idle": "2023-04-15T09:30:34.977327Z",
     "shell.execute_reply": "2023-04-15T09:30:34.976237Z"
    },
    "papermill": {
     "duration": 0.031042,
     "end_time": "2023-04-15T09:30:34.979745",
     "exception": false,
     "start_time": "2023-04-15T09:30:34.948703",
     "status": "completed"
    },
    "tags": []
   },
   "outputs": [
    {
     "data": {
      "text/plain": [
       "array([[ 0.01806535,  0.05014158, -0.05498993, ...,  0.03480555,\n",
       "         0.03896285, -0.0327041 ],\n",
       "       [ 0.01590052,  0.01029573, -0.01758222, ...,  0.06733352,\n",
       "        -0.0665015 ,  0.02176706],\n",
       "       [ 0.00286477, -0.01216824,  0.06064452, ...,  0.05440851,\n",
       "         0.00184101, -0.04119998],\n",
       "       ...,\n",
       "       [ 0.06591524, -0.01558932,  0.03168651, ...,  0.01495464,\n",
       "         0.03786182,  0.02158245],\n",
       "       [-0.02762266, -0.06992935, -0.02245444, ..., -0.07164516,\n",
       "         0.05097684, -0.06138917],\n",
       "       [-0.04602528, -0.07274519,  0.07200262, ..., -0.04706684,\n",
       "        -0.02327623, -0.01330364]], dtype=float32)"
      ]
     },
     "execution_count": 15,
     "metadata": {},
     "output_type": "execute_result"
    }
   ],
   "source": [
    "weights , biases = hidden1.get_weights()\n",
    "weights"
   ]
  },
  {
   "cell_type": "code",
   "execution_count": 16,
   "id": "4fa4f7f3",
   "metadata": {
    "execution": {
     "iopub.execute_input": "2023-04-15T09:30:35.002864Z",
     "iopub.status.busy": "2023-04-15T09:30:35.001846Z",
     "iopub.status.idle": "2023-04-15T09:30:35.011085Z",
     "shell.execute_reply": "2023-04-15T09:30:35.010027Z"
    },
    "papermill": {
     "duration": 0.023018,
     "end_time": "2023-04-15T09:30:35.013241",
     "exception": false,
     "start_time": "2023-04-15T09:30:34.990223",
     "status": "completed"
    },
    "tags": []
   },
   "outputs": [
    {
     "data": {
      "text/plain": [
       "array([0., 0., 0., 0., 0., 0., 0., 0., 0., 0., 0., 0., 0., 0., 0., 0., 0.,\n",
       "       0., 0., 0., 0., 0., 0., 0., 0., 0., 0., 0., 0., 0., 0., 0., 0., 0.,\n",
       "       0., 0., 0., 0., 0., 0., 0., 0., 0., 0., 0., 0., 0., 0., 0., 0., 0.,\n",
       "       0., 0., 0., 0., 0., 0., 0., 0., 0., 0., 0., 0., 0., 0., 0., 0., 0.,\n",
       "       0., 0., 0., 0., 0., 0., 0., 0., 0., 0., 0., 0., 0., 0., 0., 0., 0.,\n",
       "       0., 0., 0., 0., 0., 0., 0., 0., 0., 0., 0., 0., 0., 0., 0., 0., 0.,\n",
       "       0., 0., 0., 0., 0., 0., 0., 0., 0., 0., 0., 0., 0., 0., 0., 0., 0.,\n",
       "       0., 0., 0., 0., 0., 0., 0., 0., 0., 0., 0., 0., 0., 0., 0., 0., 0.,\n",
       "       0., 0., 0., 0., 0., 0., 0., 0., 0., 0., 0., 0., 0., 0., 0., 0., 0.,\n",
       "       0., 0., 0., 0., 0., 0., 0., 0., 0., 0., 0., 0., 0., 0., 0., 0., 0.,\n",
       "       0., 0., 0., 0., 0., 0., 0., 0., 0., 0., 0., 0., 0., 0., 0., 0., 0.,\n",
       "       0., 0., 0., 0., 0., 0., 0., 0., 0., 0., 0., 0., 0., 0., 0., 0., 0.,\n",
       "       0., 0., 0., 0., 0., 0., 0., 0., 0., 0., 0., 0., 0., 0., 0., 0., 0.,\n",
       "       0., 0., 0., 0., 0., 0., 0., 0., 0., 0., 0., 0., 0., 0., 0., 0., 0.,\n",
       "       0., 0., 0., 0., 0., 0., 0., 0., 0., 0., 0., 0., 0., 0., 0., 0., 0.,\n",
       "       0., 0., 0., 0., 0., 0., 0., 0., 0., 0., 0., 0., 0., 0., 0., 0., 0.,\n",
       "       0., 0., 0., 0., 0., 0., 0., 0., 0., 0., 0., 0., 0., 0., 0., 0., 0.,\n",
       "       0., 0., 0., 0., 0., 0., 0., 0., 0., 0., 0.], dtype=float32)"
      ]
     },
     "execution_count": 16,
     "metadata": {},
     "output_type": "execute_result"
    }
   ],
   "source": [
    "biases"
   ]
  },
  {
   "cell_type": "code",
   "execution_count": 17,
   "id": "4da6b88c",
   "metadata": {
    "execution": {
     "iopub.execute_input": "2023-04-15T09:30:35.035331Z",
     "iopub.status.busy": "2023-04-15T09:30:35.035005Z",
     "iopub.status.idle": "2023-04-15T09:30:35.041087Z",
     "shell.execute_reply": "2023-04-15T09:30:35.040023Z"
    },
    "papermill": {
     "duration": 0.019324,
     "end_time": "2023-04-15T09:30:35.043121",
     "exception": false,
     "start_time": "2023-04-15T09:30:35.023797",
     "status": "completed"
    },
    "tags": []
   },
   "outputs": [
    {
     "data": {
      "text/plain": [
       "(784, 300)"
      ]
     },
     "execution_count": 17,
     "metadata": {},
     "output_type": "execute_result"
    }
   ],
   "source": [
    "weights.shape"
   ]
  },
  {
   "cell_type": "code",
   "execution_count": 18,
   "id": "f8f65073",
   "metadata": {
    "execution": {
     "iopub.execute_input": "2023-04-15T09:30:35.065696Z",
     "iopub.status.busy": "2023-04-15T09:30:35.064815Z",
     "iopub.status.idle": "2023-04-15T09:30:35.071213Z",
     "shell.execute_reply": "2023-04-15T09:30:35.070196Z"
    },
    "papermill": {
     "duration": 0.019752,
     "end_time": "2023-04-15T09:30:35.073286",
     "exception": false,
     "start_time": "2023-04-15T09:30:35.053534",
     "status": "completed"
    },
    "tags": []
   },
   "outputs": [
    {
     "data": {
      "text/plain": [
       "(300,)"
      ]
     },
     "execution_count": 18,
     "metadata": {},
     "output_type": "execute_result"
    }
   ],
   "source": [
    "biases.shape"
   ]
  },
  {
   "cell_type": "markdown",
   "id": "a1d081b4",
   "metadata": {
    "papermill": {
     "duration": 0.010095,
     "end_time": "2023-04-15T09:30:35.093788",
     "exception": false,
     "start_time": "2023-04-15T09:30:35.083693",
     "status": "completed"
    },
    "tags": []
   },
   "source": [
    "# **Compiling the model**"
   ]
  },
  {
   "cell_type": "code",
   "execution_count": 19,
   "id": "f1dcf1fe",
   "metadata": {
    "execution": {
     "iopub.execute_input": "2023-04-15T09:30:35.116514Z",
     "iopub.status.busy": "2023-04-15T09:30:35.115556Z",
     "iopub.status.idle": "2023-04-15T09:30:35.134324Z",
     "shell.execute_reply": "2023-04-15T09:30:35.133392Z"
    },
    "papermill": {
     "duration": 0.032173,
     "end_time": "2023-04-15T09:30:35.136306",
     "exception": false,
     "start_time": "2023-04-15T09:30:35.104133",
     "status": "completed"
    },
    "tags": []
   },
   "outputs": [],
   "source": [
    "model.compile(loss=\"sparse_categorical_crossentropy\" , optimizer=\"sgd\" , metrics=[\"accuracy\"])"
   ]
  },
  {
   "cell_type": "markdown",
   "id": "027b1e02",
   "metadata": {
    "papermill": {
     "duration": 0.010076,
     "end_time": "2023-04-15T09:30:35.156950",
     "exception": false,
     "start_time": "2023-04-15T09:30:35.146874",
     "status": "completed"
    },
    "tags": []
   },
   "source": [
    "# **Training and evaluating the model**"
   ]
  },
  {
   "cell_type": "code",
   "execution_count": 20,
   "id": "db4aa808",
   "metadata": {
    "execution": {
     "iopub.execute_input": "2023-04-15T09:30:35.179838Z",
     "iopub.status.busy": "2023-04-15T09:30:35.178853Z",
     "iopub.status.idle": "2023-04-15T09:33:58.348302Z",
     "shell.execute_reply": "2023-04-15T09:33:58.347204Z"
    },
    "papermill": {
     "duration": 203.183918,
     "end_time": "2023-04-15T09:33:58.351282",
     "exception": false,
     "start_time": "2023-04-15T09:30:35.167364",
     "status": "completed"
    },
    "tags": []
   },
   "outputs": [
    {
     "name": "stdout",
     "output_type": "stream",
     "text": [
      "Epoch 1/30\n",
      "1719/1719 [==============================] - 9s 3ms/step - loss: 0.7159 - accuracy: 0.7589 - val_loss: 0.5073 - val_accuracy: 0.8292\n",
      "Epoch 2/30\n",
      "1719/1719 [==============================] - 5s 3ms/step - loss: 0.4866 - accuracy: 0.8305 - val_loss: 0.4668 - val_accuracy: 0.8314\n",
      "Epoch 3/30\n",
      "1719/1719 [==============================] - 6s 3ms/step - loss: 0.4401 - accuracy: 0.8441 - val_loss: 0.4255 - val_accuracy: 0.8522\n",
      "Epoch 4/30\n",
      "1719/1719 [==============================] - 5s 3ms/step - loss: 0.4151 - accuracy: 0.8548 - val_loss: 0.3960 - val_accuracy: 0.8568\n",
      "Epoch 5/30\n",
      "1719/1719 [==============================] - 6s 3ms/step - loss: 0.3940 - accuracy: 0.8612 - val_loss: 0.3923 - val_accuracy: 0.8600\n",
      "Epoch 6/30\n",
      "1719/1719 [==============================] - 6s 3ms/step - loss: 0.3776 - accuracy: 0.8666 - val_loss: 0.3941 - val_accuracy: 0.8630\n",
      "Epoch 7/30\n",
      "1719/1719 [==============================] - 6s 3ms/step - loss: 0.3649 - accuracy: 0.8693 - val_loss: 0.3719 - val_accuracy: 0.8668\n",
      "Epoch 8/30\n",
      "1719/1719 [==============================] - 6s 3ms/step - loss: 0.3534 - accuracy: 0.8746 - val_loss: 0.3691 - val_accuracy: 0.8662\n",
      "Epoch 9/30\n",
      "1719/1719 [==============================] - 5s 3ms/step - loss: 0.3424 - accuracy: 0.8785 - val_loss: 0.3520 - val_accuracy: 0.8730\n",
      "Epoch 10/30\n",
      "1719/1719 [==============================] - 6s 3ms/step - loss: 0.3329 - accuracy: 0.8810 - val_loss: 0.3545 - val_accuracy: 0.8764\n",
      "Epoch 11/30\n",
      "1719/1719 [==============================] - 6s 3ms/step - loss: 0.3238 - accuracy: 0.8842 - val_loss: 0.3683 - val_accuracy: 0.8632\n",
      "Epoch 12/30\n",
      "1719/1719 [==============================] - 5s 3ms/step - loss: 0.3162 - accuracy: 0.8856 - val_loss: 0.3485 - val_accuracy: 0.8732\n",
      "Epoch 13/30\n",
      "1719/1719 [==============================] - 6s 3ms/step - loss: 0.3087 - accuracy: 0.8901 - val_loss: 0.3308 - val_accuracy: 0.8806\n",
      "Epoch 14/30\n",
      "1719/1719 [==============================] - 5s 3ms/step - loss: 0.3010 - accuracy: 0.8923 - val_loss: 0.3410 - val_accuracy: 0.8766\n",
      "Epoch 15/30\n",
      "1719/1719 [==============================] - 5s 3ms/step - loss: 0.2955 - accuracy: 0.8946 - val_loss: 0.3349 - val_accuracy: 0.8792\n",
      "Epoch 16/30\n",
      "1719/1719 [==============================] - 6s 3ms/step - loss: 0.2879 - accuracy: 0.8964 - val_loss: 0.3300 - val_accuracy: 0.8788\n",
      "Epoch 17/30\n",
      "1719/1719 [==============================] - 6s 3ms/step - loss: 0.2827 - accuracy: 0.8979 - val_loss: 0.3391 - val_accuracy: 0.8746\n",
      "Epoch 18/30\n",
      "1719/1719 [==============================] - 5s 3ms/step - loss: 0.2772 - accuracy: 0.9003 - val_loss: 0.3316 - val_accuracy: 0.8784\n",
      "Epoch 19/30\n",
      "1719/1719 [==============================] - 5s 3ms/step - loss: 0.2722 - accuracy: 0.9014 - val_loss: 0.3532 - val_accuracy: 0.8664\n",
      "Epoch 20/30\n",
      "1719/1719 [==============================] - 5s 3ms/step - loss: 0.2674 - accuracy: 0.9045 - val_loss: 0.3235 - val_accuracy: 0.8792\n",
      "Epoch 21/30\n",
      "1719/1719 [==============================] - 6s 3ms/step - loss: 0.2624 - accuracy: 0.9050 - val_loss: 0.3203 - val_accuracy: 0.8848\n",
      "Epoch 22/30\n",
      "1719/1719 [==============================] - 6s 3ms/step - loss: 0.2570 - accuracy: 0.9072 - val_loss: 0.3187 - val_accuracy: 0.8822\n",
      "Epoch 23/30\n",
      "1719/1719 [==============================] - 6s 3ms/step - loss: 0.2529 - accuracy: 0.9090 - val_loss: 0.3428 - val_accuracy: 0.8762\n",
      "Epoch 24/30\n",
      "1719/1719 [==============================] - 6s 3ms/step - loss: 0.2477 - accuracy: 0.9109 - val_loss: 0.3236 - val_accuracy: 0.8798\n",
      "Epoch 25/30\n",
      "1719/1719 [==============================] - 5s 3ms/step - loss: 0.2433 - accuracy: 0.9128 - val_loss: 0.3198 - val_accuracy: 0.8832\n",
      "Epoch 26/30\n",
      "1719/1719 [==============================] - 6s 3ms/step - loss: 0.2399 - accuracy: 0.9131 - val_loss: 0.3131 - val_accuracy: 0.8840\n",
      "Epoch 27/30\n",
      "1719/1719 [==============================] - 6s 3ms/step - loss: 0.2347 - accuracy: 0.9150 - val_loss: 0.3185 - val_accuracy: 0.8862\n",
      "Epoch 28/30\n",
      "1719/1719 [==============================] - 6s 3ms/step - loss: 0.2318 - accuracy: 0.9171 - val_loss: 0.3176 - val_accuracy: 0.8872\n",
      "Epoch 29/30\n",
      "1719/1719 [==============================] - 6s 3ms/step - loss: 0.2272 - accuracy: 0.9183 - val_loss: 0.3208 - val_accuracy: 0.8848\n",
      "Epoch 30/30\n",
      "1719/1719 [==============================] - 5s 3ms/step - loss: 0.2241 - accuracy: 0.9195 - val_loss: 0.3154 - val_accuracy: 0.8856\n"
     ]
    }
   ],
   "source": [
    "history = model.fit(X_train , y_train , epochs=30 , validation_data = (X_valid , y_valid))"
   ]
  },
  {
   "cell_type": "code",
   "execution_count": 21,
   "id": "b842f139",
   "metadata": {
    "execution": {
     "iopub.execute_input": "2023-04-15T09:33:58.762351Z",
     "iopub.status.busy": "2023-04-15T09:33:58.761962Z",
     "iopub.status.idle": "2023-04-15T09:33:58.768654Z",
     "shell.execute_reply": "2023-04-15T09:33:58.767627Z"
    },
    "papermill": {
     "duration": 0.248879,
     "end_time": "2023-04-15T09:33:58.771294",
     "exception": false,
     "start_time": "2023-04-15T09:33:58.522415",
     "status": "completed"
    },
    "tags": []
   },
   "outputs": [
    {
     "data": {
      "text/plain": [
       "{'verbose': 1, 'epochs': 30, 'steps': 1719}"
      ]
     },
     "execution_count": 21,
     "metadata": {},
     "output_type": "execute_result"
    }
   ],
   "source": [
    "history.params"
   ]
  },
  {
   "cell_type": "code",
   "execution_count": 22,
   "id": "34b7af71",
   "metadata": {
    "execution": {
     "iopub.execute_input": "2023-04-15T09:33:59.114424Z",
     "iopub.status.busy": "2023-04-15T09:33:59.113481Z",
     "iopub.status.idle": "2023-04-15T09:33:59.371304Z",
     "shell.execute_reply": "2023-04-15T09:33:59.370295Z"
    },
    "papermill": {
     "duration": 0.432702,
     "end_time": "2023-04-15T09:33:59.373493",
     "exception": false,
     "start_time": "2023-04-15T09:33:58.940791",
     "status": "completed"
    },
    "tags": []
   },
   "outputs": [
    {
     "data": {
      "image/png": "[encoded data removed]",
      "text/plain": [
       "<Figure size 800x500 with 1 Axes>"
      ]
     },
     "metadata": {},
     "output_type": "display_data"
    }
   ],
   "source": [
    "import pandas as pd\n",
    "\n",
    "pd.DataFrame(history.history).plot(\n",
    "    figsize=(8, 5), xlim=[0, 29], ylim=[0, 1], grid=True, xlabel=\"Epoch\",\n",
    "    style=[\"r--\", \"r--.\", \"b-\", \"b-*\"])\n",
    "plt.legend(loc=\"lower left\")   # extra code\n",
    "plt.show()"
   ]
  },
  {
   "cell_type": "code",
   "execution_count": 23,
   "id": "89f1a357",
   "metadata": {
    "execution": {
     "iopub.execute_input": "2023-04-15T09:33:59.718643Z",
     "iopub.status.busy": "2023-04-15T09:33:59.716620Z",
     "iopub.status.idle": "2023-04-15T09:34:01.197210Z",
     "shell.execute_reply": "2023-04-15T09:34:01.196151Z"
    },
    "papermill": {
     "duration": 1.655058,
     "end_time": "2023-04-15T09:34:01.199583",
     "exception": false,
     "start_time": "2023-04-15T09:33:59.544525",
     "status": "completed"
    },
    "tags": []
   },
   "outputs": [
    {
     "name": "stdout",
     "output_type": "stream",
     "text": [
      "313/313 [==============================] - 1s 2ms/step - loss: 0.3265 - accuracy: 0.8833\n"
     ]
    },
    {
     "data": {
      "text/plain": [
       "[0.3265148401260376, 0.8833000063896179]"
      ]
     },
     "execution_count": 23,
     "metadata": {},
     "output_type": "execute_result"
    }
   ],
   "source": [
    "model.evaluate(X_test , y_test)"
   ]
  },
  {
   "cell_type": "markdown",
   "id": "6d82b532",
   "metadata": {
    "papermill": {
     "duration": 0.171982,
     "end_time": "2023-04-15T09:34:01.542284",
     "exception": false,
     "start_time": "2023-04-15T09:34:01.370302",
     "status": "completed"
    },
    "tags": []
   },
   "source": [
    "# **Using the models for making predictions**"
   ]
  },
  {
   "cell_type": "code",
   "execution_count": 24,
   "id": "139b1e55",
   "metadata": {
    "execution": {
     "iopub.execute_input": "2023-04-15T09:34:01.889009Z",
     "iopub.status.busy": "2023-04-15T09:34:01.888629Z",
     "iopub.status.idle": "2023-04-15T09:34:02.036269Z",
     "shell.execute_reply": "2023-04-15T09:34:02.035187Z"
    },
    "papermill": {
     "duration": 0.325217,
     "end_time": "2023-04-15T09:34:02.038594",
     "exception": false,
     "start_time": "2023-04-15T09:34:01.713377",
     "status": "completed"
    },
    "tags": []
   },
   "outputs": [
    {
     "name": "stdout",
     "output_type": "stream",
     "text": [
      "1/1 [==============================] - 0s 94ms/step\n"
     ]
    },
    {
     "data": {
      "text/plain": [
       "array([[0.  , 0.  , 0.  , 0.  , 0.  , 0.01, 0.  , 0.06, 0.  , 0.93],\n",
       "       [0.  , 0.  , 1.  , 0.  , 0.  , 0.  , 0.  , 0.  , 0.  , 0.  ],\n",
       "       [0.  , 1.  , 0.  , 0.  , 0.  , 0.  , 0.  , 0.  , 0.  , 0.  ],\n",
       "       [0.  , 1.  , 0.  , 0.  , 0.  , 0.  , 0.  , 0.  , 0.  , 0.  ],\n",
       "       [0.19, 0.  , 0.01, 0.  , 0.  , 0.  , 0.8 , 0.  , 0.  , 0.  ]],\n",
       "      dtype=float32)"
      ]
     },
     "execution_count": 24,
     "metadata": {},
     "output_type": "execute_result"
    }
   ],
   "source": [
    "X_new = X_test[:5]\n",
    "y_proba = model.predict(X_new)\n",
    "y_proba.round(2)"
   ]
  },
  {
   "cell_type": "code",
   "execution_count": 25,
   "id": "22ac02d3",
   "metadata": {
    "execution": {
     "iopub.execute_input": "2023-04-15T09:34:02.382998Z",
     "iopub.status.busy": "2023-04-15T09:34:02.381917Z",
     "iopub.status.idle": "2023-04-15T09:34:02.390329Z",
     "shell.execute_reply": "2023-04-15T09:34:02.389434Z"
    },
    "papermill": {
     "duration": 0.182306,
     "end_time": "2023-04-15T09:34:02.392500",
     "exception": false,
     "start_time": "2023-04-15T09:34:02.210194",
     "status": "completed"
    },
    "tags": []
   },
   "outputs": [
    {
     "data": {
      "text/plain": [
       "array([9, 2, 1, 1, 6])"
      ]
     },
     "execution_count": 25,
     "metadata": {},
     "output_type": "execute_result"
    }
   ],
   "source": [
    "y_pred = y_proba.argmax(axis=-1)\n",
    "y_pred"
   ]
  },
  {
   "cell_type": "code",
   "execution_count": 26,
   "id": "4d9f3cce",
   "metadata": {
    "execution": {
     "iopub.execute_input": "2023-04-15T09:34:02.786011Z",
     "iopub.status.busy": "2023-04-15T09:34:02.784937Z",
     "iopub.status.idle": "2023-04-15T09:34:02.792555Z",
     "shell.execute_reply": "2023-04-15T09:34:02.791451Z"
    },
    "papermill": {
     "duration": 0.230543,
     "end_time": "2023-04-15T09:34:02.795176",
     "exception": false,
     "start_time": "2023-04-15T09:34:02.564633",
     "status": "completed"
    },
    "tags": []
   },
   "outputs": [
    {
     "data": {
      "text/plain": [
       "array(['Ankle boot', 'Pullover', 'Trouser', 'Trouser', 'Shirt'],\n",
       "      dtype='<U11')"
      ]
     },
     "execution_count": 26,
     "metadata": {},
     "output_type": "execute_result"
    }
   ],
   "source": [
    "np.array(class_names)[y_pred]"
   ]
  },
  {
   "cell_type": "code",
   "execution_count": 27,
   "id": "46a23a7a",
   "metadata": {
    "execution": {
     "iopub.execute_input": "2023-04-15T09:34:03.141485Z",
     "iopub.status.busy": "2023-04-15T09:34:03.140424Z",
     "iopub.status.idle": "2023-04-15T09:34:03.148091Z",
     "shell.execute_reply": "2023-04-15T09:34:03.146963Z"
    },
    "papermill": {
     "duration": 0.185643,
     "end_time": "2023-04-15T09:34:03.151495",
     "exception": false,
     "start_time": "2023-04-15T09:34:02.965852",
     "status": "completed"
    },
    "tags": []
   },
   "outputs": [
    {
     "data": {
      "text/plain": [
       "array([9, 2, 1, 1, 6], dtype=uint8)"
      ]
     },
     "execution_count": 27,
     "metadata": {},
     "output_type": "execute_result"
    }
   ],
   "source": [
    "y_new = y_test[:5]\n",
    "y_new"
   ]
  },
  {
   "cell_type": "code",
   "execution_count": 28,
   "id": "1d77ad1a",
   "metadata": {
    "execution": {
     "iopub.execute_input": "2023-04-15T09:34:03.495929Z",
     "iopub.status.busy": "2023-04-15T09:34:03.495562Z",
     "iopub.status.idle": "2023-04-15T09:34:03.652008Z",
     "shell.execute_reply": "2023-04-15T09:34:03.650455Z"
    },
    "papermill": {
     "duration": 0.334443,
     "end_time": "2023-04-15T09:34:03.656194",
     "exception": false,
     "start_time": "2023-04-15T09:34:03.321751",
     "status": "completed"
    },
    "tags": []
   },
   "outputs": [
    {
     "data": {
      "image/png": "[encoded data removed]",
      "text/plain": [
       "<Figure size 720x240 with 5 Axes>"
      ]
     },
     "metadata": {},
     "output_type": "display_data"
    }
   ],
   "source": [
    "plt.figure(figsize=(7.2, 2.4))\n",
    "for index, image in enumerate(X_new):\n",
    "    plt.subplot(1, 6, index + 1)\n",
    "    plt.imshow(image, cmap=\"binary\", interpolation=\"nearest\")\n",
    "    plt.axis('off')\n",
    "    plt.title(class_names[y_test[index]])\n",
    "plt.subplots_adjust(wspace=0.2, hspace=0.5)\n",
    "plt.show()"
   ]
  }
 ],
 "metadata": {
  "kernelspec": {
   "display_name": "Python 3",
   "language": "python",
   "name": "python3"
  },
  "language_info": {
   "codemirror_mode": {
    "name": "ipython",
    "version": 3
   },
   "file_extension": ".py",
   "mimetype": "text/x-python",
   "name": "python",
   "nbconvert_exporter": "python",
   "pygments_lexer": "ipython3",
   "version": "3.7.12"
  },
  "papermill": {
   "default_parameters": {},
   "duration": 235.06607,
   "end_time": "2023-04-15T09:34:06.775857",
   "environment_variables": {},
   "exception": null,
   "input_path": "__notebook__.ipynb",
   "output_path": "__notebook__.ipynb",
   "parameters": {},
   "start_time": "2023-04-15T09:30:11.709787",
   "version": "2.4.0"
  }
 },
 "nbformat": 4,
 "nbformat_minor": 5
}
